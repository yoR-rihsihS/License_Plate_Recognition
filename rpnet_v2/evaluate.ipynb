{
 "cells": [
  {
   "cell_type": "code",
   "execution_count": 1,
   "metadata": {},
   "outputs": [
    {
     "name": "stderr",
     "output_type": "stream",
     "text": [
      "/data2/home/shishirm/.local/lib/python3.8/site-packages/pandas/core/computation/expressions.py:20: UserWarning: Pandas requires version '2.7.3' or newer of 'numexpr' (version '2.7.1' currently installed).\n",
      "  from pandas.core.computation.check import NUMEXPR_INSTALLED\n"
     ]
    }
   ],
   "source": [
    "import pandas as pd\n",
    "from PIL import Image\n",
    "from tqdm.notebook import tqdm\n",
    "\n",
    "import torch\n",
    "import torch.nn as nn\n",
    "from torchvision import transforms\n",
    "from torch.utils.data import Dataset, DataLoader\n",
    "\n",
    "from san_18_04_2 import Recognition_Module"
   ]
  },
  {
   "cell_type": "code",
   "execution_count": 2,
   "metadata": {},
   "outputs": [],
   "source": [
    "device = 'cuda:0'\n",
    "torch.cuda.empty_cache()"
   ]
  },
  {
   "cell_type": "code",
   "execution_count": 3,
   "metadata": {},
   "outputs": [],
   "source": [
    "class CustomDataset(Dataset):\n",
    "    def __init__(self, csv_file, transform=None):\n",
    "        self.data_frame = pd.read_csv(csv_file)\n",
    "        self.transform = transform\n",
    "\n",
    "    def __len__(self):\n",
    "        return len(self.data_frame)\n",
    "\n",
    "    def __getitem__(self, idx):\n",
    "        if torch.is_tensor(idx):\n",
    "            idx = idx.tolist()\n",
    "\n",
    "        image_path = self.data_frame.iloc[idx, 0]\n",
    "        label = [x for x in self.data_frame.iloc[idx, 5:]] # license plate chracters' indices\n",
    "\n",
    "        image = Image.open(image_path).convert('RGB')\n",
    "\n",
    "        if self.transform:\n",
    "            image = self.transform(image)\n",
    "\n",
    "        return image, torch.tensor(label, dtype=torch.long)"
   ]
  },
  {
   "cell_type": "code",
   "execution_count": 4,
   "metadata": {},
   "outputs": [],
   "source": [
    "transform = transforms.Compose([\n",
    "    transforms.Resize((480, 480)),\n",
    "    transforms.ToTensor(),\n",
    "])"
   ]
  },
  {
   "cell_type": "code",
   "execution_count": 5,
   "metadata": {},
   "outputs": [],
   "source": [
    "def evaluate(model, dataset_path):\n",
    "    dataset = CustomDataset(dataset_path, transform=transform)\n",
    "    dataset_loader = DataLoader(dataset, batch_size=100, shuffle=False, num_workers=25, prefetch_factor=10)\n",
    "    ch_correct = 0\n",
    "    li_correct = 0\n",
    "    total = 0\n",
    "    model.eval()\n",
    "    with torch.no_grad():\n",
    "        with tqdm(total = len(dataset_loader.dataset)) as pbar:\n",
    "            for image, label in dataset_loader:\n",
    "                image = image.to(device)\n",
    "                label = label.to(device)\n",
    "\n",
    "                attn, pred_label = model(image)\n",
    "\n",
    "                predictions = [torch.argmax(curr, dim=1) for curr in pred_label]\n",
    "                pred_license = torch.stack(predictions, dim=1).to(device)\n",
    "                ch_equal = (label == pred_license)\n",
    "                ch_correct += torch.sum(ch_equal).item()\n",
    "                li_equal = torch.all(ch_equal, dim=1)\n",
    "                li_correct += torch.sum(li_equal).item()\n",
    "                total += image.shape[0]\n",
    "\n",
    "                pbar.update(image.shape[0])\n",
    "                \n",
    "    print(f\"Character Accuracy : {100 * ch_correct / (7 * total)} \\tLicense Accuracy : {100 * li_correct / total}\")"
   ]
  },
  {
   "cell_type": "code",
   "execution_count": 6,
   "metadata": {},
   "outputs": [
    {
     "data": {
      "text/plain": [
       "<All keys matched successfully>"
      ]
     },
     "execution_count": 6,
     "metadata": {},
     "output_type": "execute_result"
    }
   ],
   "source": [
    "model = Recognition_Module()\n",
    "model.to(device)\n",
    "model.load_state_dict(torch.load('./model/prediction_module_30.pth', map_location=device))"
   ]
  },
  {
   "cell_type": "code",
   "execution_count": 7,
   "metadata": {},
   "outputs": [
    {
     "name": "stdout",
     "output_type": "stream",
     "text": [
      "Results for CCPD Blur :\n"
     ]
    },
    {
     "data": {
      "application/vnd.jupyter.widget-view+json": {
       "model_id": "dc5bbb8c0b9348378022b2586725d104",
       "version_major": 2,
       "version_minor": 0
      },
      "text/plain": [
       "  0%|          | 0/20611 [00:00<?, ?it/s]"
      ]
     },
     "metadata": {},
     "output_type": "display_data"
    },
    {
     "name": "stdout",
     "output_type": "stream",
     "text": [
      "Character Accuracy : 76.78632075798637 \tLicense Accuracy : 29.382368638105866\n"
     ]
    }
   ],
   "source": [
    "print(\"Results for CCPD Blur :\")\n",
    "evaluate(model, '../datasets/ccpd_blur.csv')\n",
    "\n",
    "# e50 Character Accuracy : 76.78216209097778 \tLicense Accuracy : 29.387220416282567\n",
    "# e30 Character Accuracy : 76.78632075798637 \tLicense Accuracy : 29.382368638105866"
   ]
  },
  {
   "cell_type": "code",
   "execution_count": 8,
   "metadata": {},
   "outputs": [
    {
     "name": "stdout",
     "output_type": "stream",
     "text": [
      "Results for CCPD Challenge :\n"
     ]
    },
    {
     "data": {
      "application/vnd.jupyter.widget-view+json": {
       "model_id": "d7f294dcbd514865a9ec483c1ed10264",
       "version_major": 2,
       "version_minor": 0
      },
      "text/plain": [
       "  0%|          | 0/50003 [00:00<?, ?it/s]"
      ]
     },
     "metadata": {},
     "output_type": "display_data"
    },
    {
     "name": "stdout",
     "output_type": "stream",
     "text": [
      "Character Accuracy : 80.11176472268806 \tLicense Accuracy : 34.991900485970845\n"
     ]
    }
   ],
   "source": [
    "print(\"Results for CCPD Challenge :\")\n",
    "evaluate(model, '../datasets/ccpd_challenge.csv')\n",
    "\n",
    "# e50 Character Accuracy : 80.11890715128521 \tLicense Accuracy : 35.04389736615803\n",
    "# e30 Character Accuracy : 80.11176472268806 \tLicense Accuracy : 34.991900485970845\n"
   ]
  },
  {
   "cell_type": "code",
   "execution_count": 9,
   "metadata": {},
   "outputs": [
    {
     "name": "stdout",
     "output_type": "stream",
     "text": [
      "Results for CCPD DB :\n"
     ]
    },
    {
     "data": {
      "application/vnd.jupyter.widget-view+json": {
       "model_id": "e9e0db6ccaef4940818a6709471fb7bd",
       "version_major": 2,
       "version_minor": 0
      },
      "text/plain": [
       "  0%|          | 0/10132 [00:00<?, ?it/s]"
      ]
     },
     "metadata": {},
     "output_type": "display_data"
    },
    {
     "name": "stdout",
     "output_type": "stream",
     "text": [
      "Character Accuracy : 80.93734137950482 \tLicense Accuracy : 36.70548756415318\n"
     ]
    }
   ],
   "source": [
    "print(\"Results for CCPD DB :\")\n",
    "evaluate(model, '../datasets/ccpd_db.csv')\n",
    "\n",
    "# e50 Character Accuracy : 80.9895098979189 \tLicense Accuracy : 36.81405448085275\n",
    "# e30 Character Accuracy : 80.93734137950482 \tLicense Accuracy : 36.70548756415318\n"
   ]
  },
  {
   "cell_type": "code",
   "execution_count": 10,
   "metadata": {},
   "outputs": [
    {
     "name": "stdout",
     "output_type": "stream",
     "text": [
      "Results for CCPD Rotate :\n"
     ]
    },
    {
     "data": {
      "application/vnd.jupyter.widget-view+json": {
       "model_id": "f8a9c162a7944b0490740bcd88a9997a",
       "version_major": 2,
       "version_minor": 0
      },
      "text/plain": [
       "  0%|          | 0/10053 [00:00<?, ?it/s]"
      ]
     },
     "metadata": {},
     "output_type": "display_data"
    },
    {
     "name": "stdout",
     "output_type": "stream",
     "text": [
      "Character Accuracy : 92.87916897585653 \tLicense Accuracy : 69.06396100666468\n"
     ]
    }
   ],
   "source": [
    "print(\"Results for CCPD Rotate :\")\n",
    "evaluate(model, '../datasets/ccpd_rotate.csv')\n",
    "\n",
    "# e50 Character Accuracy : 92.85785337710136 \tLicense Accuracy : 69.01422460956928\n",
    "# e30 Character Accuracy : 92.87916897585653 \tLicense Accuracy : 69.06396100666468\n"
   ]
  },
  {
   "cell_type": "code",
   "execution_count": 11,
   "metadata": {},
   "outputs": [
    {
     "name": "stdout",
     "output_type": "stream",
     "text": [
      "Results for CCPD Tilt :\n"
     ]
    },
    {
     "data": {
      "application/vnd.jupyter.widget-view+json": {
       "model_id": "34065d808bc94b6e9b4866627cf9f830",
       "version_major": 2,
       "version_minor": 0
      },
      "text/plain": [
       "  0%|          | 0/30216 [00:00<?, ?it/s]"
      ]
     },
     "metadata": {},
     "output_type": "display_data"
    },
    {
     "name": "stdout",
     "output_type": "stream",
     "text": [
      "Character Accuracy : 87.36951094973335 \tLicense Accuracy : 50.90349483717236\n"
     ]
    }
   ],
   "source": [
    "print(\"Results for CCPD Tilt :\")\n",
    "evaluate(model, '../datasets/ccpd_tilt.csv')\n",
    "\n",
    "# e50 Character Accuracy : 87.38322175573963 \tLicense Accuracy : 50.96968493513371\n",
    "# e30 Character Accuracy : 87.36951094973335 \tLicense Accuracy : 50.90349483717236\n"
   ]
  },
  {
   "cell_type": "code",
   "execution_count": 12,
   "metadata": {},
   "outputs": [
    {
     "name": "stdout",
     "output_type": "stream",
     "text": [
      "Results for CCPD Weather :\n"
     ]
    },
    {
     "data": {
      "application/vnd.jupyter.widget-view+json": {
       "model_id": "1cf4c2dcc7d84cb4bff2c4f0e37fc35a",
       "version_major": 2,
       "version_minor": 0
      },
      "text/plain": [
       "  0%|          | 0/9999 [00:00<?, ?it/s]"
      ]
     },
     "metadata": {},
     "output_type": "display_data"
    },
    {
     "name": "stdout",
     "output_type": "stream",
     "text": [
      "Character Accuracy : 98.47841927049848 \tLicense Accuracy : 91.87918791879189\n"
     ]
    }
   ],
   "source": [
    "print(\"Results for CCPD Weather :\")\n",
    "evaluate(model, '../datasets/ccpd_weather.csv')\n",
    "\n",
    "# e50 Character Accuracy : 98.48842027059848 \tLicense Accuracy : 91.91919191919192\n",
    "# e30 Character Accuracy : 98.47841927049848 \tLicense Accuracy : 91.87918791879189\n"
   ]
  },
  {
   "cell_type": "code",
   "execution_count": 13,
   "metadata": {},
   "outputs": [
    {
     "name": "stdout",
     "output_type": "stream",
     "text": [
      "Results for CCPD Base Test :\n"
     ]
    },
    {
     "data": {
      "application/vnd.jupyter.widget-view+json": {
       "model_id": "291f0c8e32c040f0b2f38f1d293ff93d",
       "version_major": 2,
       "version_minor": 0
      },
      "text/plain": [
       "  0%|          | 0/59999 [00:00<?, ?it/s]"
      ]
     },
     "metadata": {},
     "output_type": "display_data"
    },
    {
     "name": "stdout",
     "output_type": "stream",
     "text": [
      "Character Accuracy : 99.12308062277228 \tLicense Accuracy : 95.06158435973933\n"
     ]
    }
   ],
   "source": [
    "print(\"Results for CCPD Base Test :\")\n",
    "evaluate(model, '../datasets/test.csv')\n",
    "\n",
    "# e50 Character Accuracy : 99.12903310293267 \tLicense Accuracy : 95.09491824863748\n",
    "# e30 Character Accuracy : 99.12308062277228 \tLicense Accuracy : 95.06158435973933\n"
   ]
  },
  {
   "cell_type": "code",
   "execution_count": 14,
   "metadata": {},
   "outputs": [
    {
     "name": "stdout",
     "output_type": "stream",
     "text": [
      "Results for CCPD FN :\n"
     ]
    },
    {
     "data": {
      "application/vnd.jupyter.widget-view+json": {
       "model_id": "e63c2fd61f67479290047771dad88854",
       "version_major": 2,
       "version_minor": 0
      },
      "text/plain": [
       "  0%|          | 0/20967 [00:00<?, ?it/s]"
      ]
     },
     "metadata": {},
     "output_type": "display_data"
    },
    {
     "name": "stdout",
     "output_type": "stream",
     "text": [
      "Character Accuracy : 75.26384999557128 \tLicense Accuracy : 31.11556255067487\n"
     ]
    }
   ],
   "source": [
    "print(\"Results for CCPD FN :\")\n",
    "evaluate(model, '../datasets/ccpd_fn.csv')\n",
    "\n",
    "# e50 Character Accuracy : 75.27815819416907 \tLicense Accuracy : 31.19664234272905\n",
    "# e30 Character Accuracy : 75.26384999557128 \tLicense Accuracy : 31.11556255067487\n"
   ]
  }
 ],
 "metadata": {
  "kernelspec": {
   "display_name": "Python 3",
   "language": "python",
   "name": "python3"
  },
  "language_info": {
   "codemirror_mode": {
    "name": "ipython",
    "version": 3
   },
   "file_extension": ".py",
   "mimetype": "text/x-python",
   "name": "python",
   "nbconvert_exporter": "python",
   "pygments_lexer": "ipython3",
   "version": "3.8.10"
  }
 },
 "nbformat": 4,
 "nbformat_minor": 2
}
