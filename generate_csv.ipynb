{
 "cells": [
  {
   "cell_type": "code",
   "execution_count": 19,
   "metadata": {},
   "outputs": [],
   "source": [
    "import os\n",
    "import csv\n",
    "import random\n",
    "\n",
    "random.seed(42)"
   ]
  },
  {
   "cell_type": "code",
   "execution_count": 20,
   "metadata": {},
   "outputs": [],
   "source": [
    "def get_files(path):\n",
    "    result = []\n",
    "    images = {'ccpd_base' : [], 'ccpd_blur' : [], 'ccpd_challenge' : [], 'ccpd_db' : [], 'ccpd_fn' : [], 'ccpd_np' : [], 'ccpd_rotate' : [], 'ccpd_tilt' : [], 'ccpd_weather' : []}\n",
    "    for root, dirs, files in os.walk(path):\n",
    "        for file in files:\n",
    "            if file.endswith('.jpg'):\n",
    "                result.append({\n",
    "                    'folder': os.path.basename(root),\n",
    "                    'filename': file\n",
    "                })\n",
    "                images[os.path.basename(root)].append(file)\n",
    "\n",
    "    return images"
   ]
  },
  {
   "cell_type": "code",
   "execution_count": 21,
   "metadata": {},
   "outputs": [
    {
     "name": "stdout",
     "output_type": "stream",
     "text": [
      "ccpd_base 199996\n",
      "ccpd_blur 20611\n",
      "ccpd_challenge 50003\n",
      "ccpd_db 10132\n",
      "ccpd_fn 20967\n",
      "ccpd_np 3036\n",
      "ccpd_rotate 10053\n",
      "ccpd_tilt 30216\n",
      "ccpd_weather 9999\n"
     ]
    }
   ],
   "source": [
    "path = \"./CCPD2019/\"\n",
    "folders = get_files(path)\n",
    "\n",
    "for folder in folders:\n",
    "    print(folder, len(folders[folder]))"
   ]
  },
  {
   "cell_type": "code",
   "execution_count": 22,
   "metadata": {},
   "outputs": [],
   "source": [
    "def get_files(list, folder):\n",
    "    dataset = []\n",
    "\n",
    "    for file in list:\n",
    "        fields = file[:-4].split(\"-\")\n",
    "        if len(fields) != 7:\n",
    "            continue\n",
    "        boxes = fields[2].split(\"_\")\n",
    "        left = boxes[0].split(\"&\")\n",
    "        right = boxes[1].split(\"&\")\n",
    "        lp = fields[4].split(\"_\")\n",
    "        dataset.append({\n",
    "            'path' : '.' + path + folder + '/' + file,\n",
    "            'left_up_x' : left[0],\n",
    "            'left_up_y' : left[1],\n",
    "            'right_down_x' : right[0],\n",
    "            'right_down_y' : right[1],\n",
    "            'lp0' : lp[0],\n",
    "            'lp1' : lp[1],\n",
    "            'lp2' : lp[2],\n",
    "            'lp3' : lp[3],\n",
    "            'lp4' : lp[4],\n",
    "            'lp5' : lp[5],\n",
    "            'lp6' : lp[6],\n",
    "        })\n",
    "\n",
    "    return dataset"
   ]
  },
  {
   "cell_type": "code",
   "execution_count": 23,
   "metadata": {},
   "outputs": [],
   "source": [
    "def write_file(file_name, dataset):\n",
    "    with open(file_name, 'w', newline='') as output_file:\n",
    "        dict_writer = csv.DictWriter(output_file, dataset[0].keys())\n",
    "        dict_writer.writeheader()\n",
    "        dict_writer.writerows(dataset)"
   ]
  },
  {
   "cell_type": "code",
   "execution_count": 24,
   "metadata": {},
   "outputs": [
    {
     "name": "stdout",
     "output_type": "stream",
     "text": [
      "Files in folder ccpd_np not in proper format\n"
     ]
    }
   ],
   "source": [
    "ccpd_base = get_files(folders['ccpd_base'], 'ccpd_base')\n",
    "random.shuffle(ccpd_base)\n",
    "n = len(ccpd_base)\n",
    "\n",
    "write_file(\"./datasets/train.csv\", ccpd_base[: int(n*0.6)])\n",
    "write_file(\"./datasets/validate.csv\", ccpd_base[int(n*0.6) : int(n*0.7)])\n",
    "write_file(\"./datasets/test.csv\", ccpd_base[int(n*0.7) :])\n",
    "\n",
    "for folder in folders:\n",
    "    if folder == 'ccpd_base':\n",
    "        continue\n",
    "    files = get_files(folders[folder], folder)\n",
    "    if len(files) == 0:\n",
    "        print(\"Files in folder\", folder, \"not in proper format\")\n",
    "        continue\n",
    "    write_file('./datasets/'+folder+'.csv', files)"
   ]
  },
  {
   "cell_type": "code",
   "execution_count": null,
   "metadata": {},
   "outputs": [],
   "source": []
  },
  {
   "cell_type": "code",
   "execution_count": 25,
   "metadata": {},
   "outputs": [
    {
     "name": "stdout",
     "output_type": "stream",
     "text": [
      "['025', '95_113', '154&383_386&473', '386&473_177&454_154&383_363&402', '0_0_22_27_27_33_16', '37', '15']\n",
      "['154&383', '386&473']\n",
      "['154', '383'] ['386', '473']\n",
      "['0', '0', '22', '27', '27', '33', '16']\n"
     ]
    }
   ],
   "source": [
    "file = \"025-95_113-154&383_386&473-386&473_177&454_154&383_363&402-0_0_22_27_27_33_16-37-15.jpg\"\n",
    "\n",
    "fields = file[:-4].split(\"-\")\n",
    "boxes = fields[2].split(\"_\")\n",
    "left = boxes[0].split(\"&\")\n",
    "right = boxes[1].split(\"&\")\n",
    "lp = fields[4].split(\"_\")\n",
    "\n",
    "print(fields)\n",
    "print(boxes)\n",
    "print(left, right)\n",
    "print(lp)"
   ]
  }
 ],
 "metadata": {
  "kernelspec": {
   "display_name": "Python 3",
   "language": "python",
   "name": "python3"
  },
  "language_info": {
   "codemirror_mode": {
    "name": "ipython",
    "version": 3
   },
   "file_extension": ".py",
   "mimetype": "text/x-python",
   "name": "python",
   "nbconvert_exporter": "python",
   "pygments_lexer": "ipython3",
   "version": "3.8.10"
  }
 },
 "nbformat": 4,
 "nbformat_minor": 2
}
