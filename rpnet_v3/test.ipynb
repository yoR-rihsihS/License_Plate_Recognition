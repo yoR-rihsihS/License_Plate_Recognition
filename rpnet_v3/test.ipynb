{
 "cells": [
  {
   "cell_type": "code",
   "execution_count": 1,
   "metadata": {},
   "outputs": [
    {
     "name": "stderr",
     "output_type": "stream",
     "text": [
      "/data2/home/shishirm/.local/lib/python3.8/site-packages/pandas/core/computation/expressions.py:20: UserWarning: Pandas requires version '2.7.3' or newer of 'numexpr' (version '2.7.1' currently installed).\n",
      "  from pandas.core.computation.check import NUMEXPR_INSTALLED\n"
     ]
    }
   ],
   "source": [
    "import pandas as pd\n",
    "from PIL import Image\n",
    "from tqdm.notebook import tqdm\n",
    "\n",
    "import torch\n",
    "import torch.nn as nn\n",
    "from torchvision import transforms\n",
    "from torch.utils.data import Dataset, DataLoader\n",
    "\n",
    "from new_rpnet import Recognition_Module"
   ]
  },
  {
   "cell_type": "code",
   "execution_count": 2,
   "metadata": {},
   "outputs": [],
   "source": [
    "device = 'cuda:0'\n",
    "torch.cuda.empty_cache()"
   ]
  },
  {
   "cell_type": "code",
   "execution_count": 3,
   "metadata": {},
   "outputs": [],
   "source": [
    "class CustomDataset(Dataset):\n",
    "    def __init__(self, csv_file, transform=None):\n",
    "        self.data_frame = pd.read_csv(csv_file)\n",
    "        self.transform = transform\n",
    "\n",
    "    def __len__(self):\n",
    "        return len(self.data_frame)\n",
    "\n",
    "    def __getitem__(self, idx):\n",
    "        if torch.is_tensor(idx):\n",
    "            idx = idx.tolist()\n",
    "\n",
    "        image_path = self.data_frame.iloc[idx, 0]\n",
    "        left = self.data_frame.iloc[idx, 1:3]\n",
    "        right = self.data_frame.iloc[idx, 3:5]\n",
    "        label = [x for x in self.data_frame.iloc[idx, 5:]] # license plate chracters' indices\n",
    "\n",
    "        image = Image.open(image_path).convert('RGB')\n",
    "        shape = image.size # width x height, \n",
    "\n",
    "        box = [(left[0]+right[0])/(2*shape[0]), (left[1]+right[1])/(2*shape[1]), (right[0]-left[0])/shape[0], (right[1]-left[1])/shape[1]]\n",
    "        # box = [cx, cy, w, h]\n",
    "\n",
    "        if self.transform:\n",
    "            image = self.transform(image)\n",
    "\n",
    "        return image, torch.tensor(box, dtype=torch.float32), torch.tensor(label, dtype=torch.long)"
   ]
  },
  {
   "cell_type": "code",
   "execution_count": 4,
   "metadata": {},
   "outputs": [],
   "source": [
    "transform = transforms.Compose([\n",
    "    transforms.Resize((480, 480)),\n",
    "    transforms.ToTensor(),\n",
    "])"
   ]
  },
  {
   "cell_type": "code",
   "execution_count": 5,
   "metadata": {},
   "outputs": [],
   "source": [
    "convert = torch.tensor([[1, 0, 1, 0], [0, 1, 0, 1], [-0.5, 0, 0.5, 0], [0, -0.5, 0, 0.5]]).to(device)\n",
    "def compute_iou(pred, box):\n",
    "    boxn = box.mm(convert).clamp(min=0, max=1)\n",
    "    predn = pred.mm(convert).clamp(min=0, max=1)\n",
    "\n",
    "    X_min = torch.max(boxn[:, 0], predn[:, 0])\n",
    "    Y_min = torch.max(boxn[:, 1], predn[:, 1])\n",
    "    X_max = torch.min(boxn[:, 2], predn[:, 2])\n",
    "    Y_max = torch.min(boxn[:, 3], predn[:, 3])\n",
    "\n",
    "    w = nn.functional.relu(X_max - X_min)\n",
    "    h = nn.functional.relu(Y_max - Y_min)\n",
    "\n",
    "    a_inter = w * h\n",
    "    a1 = box[:, 2] * box[:, 3]\n",
    "    a2 = pred[:, 2] * pred[:, 3]\n",
    "\n",
    "    iou = a_inter / (a1 + a2 - a_inter)\n",
    "\n",
    "    return torch.sum(iou).item()"
   ]
  },
  {
   "cell_type": "code",
   "execution_count": 6,
   "metadata": {},
   "outputs": [],
   "source": [
    "def evaluate(model, dataset_path):\n",
    "    dataset = CustomDataset(dataset_path, transform=transform)\n",
    "    dataset_loader = DataLoader(dataset, batch_size=100, shuffle=False, num_workers=25, prefetch_factor=10)\n",
    "    ch_correct = 0\n",
    "    li_correct = 0\n",
    "    total = 0\n",
    "    iou = 0\n",
    "    model.eval()\n",
    "    with torch.no_grad():\n",
    "        with tqdm(total = len(dataset_loader.dataset)) as pbar:\n",
    "            for image, box, label in dataset_loader:\n",
    "                image = image.to(device)\n",
    "                box = box.to(device)\n",
    "                label = label.to(device)\n",
    "\n",
    "                pred_box, pred_label = model(image)\n",
    "\n",
    "                predictions = [torch.argmax(curr, dim=1) for curr in pred_label]\n",
    "                pred_license = torch.stack(predictions, dim=1).to(device)\n",
    "                ch_equal = (label == pred_license)\n",
    "                ch_correct += torch.sum(ch_equal).item()\n",
    "                li_equal = torch.all(ch_equal, dim=1)\n",
    "                li_correct += torch.sum(li_equal).item()\n",
    "                iou += compute_iou(pred_box, box)\n",
    "                total += image.shape[0]\n",
    "\n",
    "                pbar.update(image.shape[0])\n",
    "                \n",
    "    print(f\"Character Accuracy : {100 * ch_correct / (7 * total)} \\tLicense Accuracy : {100 * li_correct / total} \\tmIoU : {iou / total}\")"
   ]
  },
  {
   "cell_type": "code",
   "execution_count": 7,
   "metadata": {},
   "outputs": [
    {
     "data": {
      "text/plain": [
       "<All keys matched successfully>"
      ]
     },
     "execution_count": 7,
     "metadata": {},
     "output_type": "execute_result"
    }
   ],
   "source": [
    "model = Recognition_Module(device=device, path='./saved/detection_module.pth')\n",
    "model.to(device)\n",
    "model.load_state_dict(torch.load('./saved/prediction_module_30.pth', map_location=device))"
   ]
  },
  {
   "cell_type": "code",
   "execution_count": 8,
   "metadata": {},
   "outputs": [
    {
     "name": "stdout",
     "output_type": "stream",
     "text": [
      "Results for CCPD Blur :\n"
     ]
    },
    {
     "data": {
      "application/vnd.jupyter.widget-view+json": {
       "model_id": "beb378d39a254dc98033fc522820866b",
       "version_major": 2,
       "version_minor": 0
      },
      "text/plain": [
       "  0%|          | 0/20611 [00:00<?, ?it/s]"
      ]
     },
     "metadata": {},
     "output_type": "display_data"
    },
    {
     "name": "stdout",
     "output_type": "stream",
     "text": [
      "Character Accuracy : 77.32486813560027 \tLicense Accuracy : 29.7511037795352 \tmIoU : 0.7301453398418163\n"
     ]
    }
   ],
   "source": [
    "print(\"Results for CCPD Blur :\")\n",
    "evaluate(model, '../datasets/ccpd_blur.csv')\n",
    "\n",
    "# e10 Character Accuracy : 75.59694199352634 \tLicense Accuracy : 26.563485517442142 \tmIoU : 0.6991262532849076\n",
    "# e30 Character Accuracy : 77.32486813560027 \tLicense Accuracy : 29.7511037795352 \tmIoU : 0.7301453398418163\n"
   ]
  },
  {
   "cell_type": "code",
   "execution_count": 9,
   "metadata": {},
   "outputs": [
    {
     "name": "stdout",
     "output_type": "stream",
     "text": [
      "Results for CCPD Challenge :\n"
     ]
    },
    {
     "data": {
      "application/vnd.jupyter.widget-view+json": {
       "model_id": "0300a276986a4666a2f85315bfe2f94a",
       "version_major": 2,
       "version_minor": 0
      },
      "text/plain": [
       "  0%|          | 0/50003 [00:00<?, ?it/s]"
      ]
     },
     "metadata": {},
     "output_type": "display_data"
    },
    {
     "name": "stdout",
     "output_type": "stream",
     "text": [
      "Character Accuracy : 80.50202702123588 \tLicense Accuracy : 36.20382777033378 \tmIoU : 0.7488508395756935\n"
     ]
    }
   ],
   "source": [
    "print(\"Results for CCPD Challenge :\")\n",
    "evaluate(model, '../datasets/ccpd_challenge.csv')\n",
    "\n",
    "# e10 Character Accuracy : 79.40237871442 \tLicense Accuracy : 33.62398256104634 \tmIoU : 0.7203702927732402\n",
    "# e30 Character Accuracy : 80.50202702123588 \tLicense Accuracy : 36.20382777033378 \tmIoU : 0.7488508395756935\n"
   ]
  },
  {
   "cell_type": "code",
   "execution_count": 10,
   "metadata": {},
   "outputs": [
    {
     "name": "stdout",
     "output_type": "stream",
     "text": [
      "Results for CCPD DB :\n"
     ]
    },
    {
     "data": {
      "application/vnd.jupyter.widget-view+json": {
       "model_id": "87308935aa0a441089fb85c05c82b087",
       "version_major": 2,
       "version_minor": 0
      },
      "text/plain": [
       "  0%|          | 0/10132 [00:00<?, ?it/s]"
      ]
     },
     "metadata": {},
     "output_type": "display_data"
    },
    {
     "name": "stdout",
     "output_type": "stream",
     "text": [
      "Character Accuracy : 78.7279341266708 \tLicense Accuracy : 34.34662455586261 \tmIoU : 0.6829328794889755\n"
     ]
    }
   ],
   "source": [
    "print(\"Results for CCPD DB :\")\n",
    "evaluate(model, '../datasets/ccpd_db.csv')\n",
    "\n",
    "# e10 Character Accuracy : 76.92741526140658 \tLicense Accuracy : 31.050138176075798 \tmIoU : 0.6516729393261391\n",
    "# e30 Character Accuracy : 78.7279341266708 \tLicense Accuracy : 34.34662455586261 \tmIoU : 0.6829328794889755\n"
   ]
  },
  {
   "cell_type": "code",
   "execution_count": 11,
   "metadata": {},
   "outputs": [
    {
     "name": "stdout",
     "output_type": "stream",
     "text": [
      "Results for CCPD Rotate :\n"
     ]
    },
    {
     "data": {
      "application/vnd.jupyter.widget-view+json": {
       "model_id": "bfaa9652325b45eb9122e49822c25e66",
       "version_major": 2,
       "version_minor": 0
      },
      "text/plain": [
       "  0%|          | 0/10053 [00:00<?, ?it/s]"
      ]
     },
     "metadata": {},
     "output_type": "display_data"
    },
    {
     "name": "stdout",
     "output_type": "stream",
     "text": [
      "Character Accuracy : 86.87811740631794 \tLicense Accuracy : 49.28876952153586 \tmIoU : 0.7846800199755505\n"
     ]
    }
   ],
   "source": [
    "print(\"Results for CCPD Rotate :\")\n",
    "evaluate(model, '../datasets/ccpd_rotate.csv')\n",
    "\n",
    "# e10 Character Accuracy : 86.24007048357988 \tLicense Accuracy : 46.951158858052324 \tmIoU : 0.7579372485312706\n",
    "# e30 Character Accuracy : 86.87811740631794 \tLicense Accuracy : 49.28876952153586 \tmIoU : 0.7846800199755505\n"
   ]
  },
  {
   "cell_type": "code",
   "execution_count": 12,
   "metadata": {},
   "outputs": [
    {
     "name": "stdout",
     "output_type": "stream",
     "text": [
      "Results for CCPD Tilt :\n"
     ]
    },
    {
     "data": {
      "application/vnd.jupyter.widget-view+json": {
       "model_id": "228e1f125c2d4160baaa6302a1903925",
       "version_major": 2,
       "version_minor": 0
      },
      "text/plain": [
       "  0%|          | 0/30216 [00:00<?, ?it/s]"
      ]
     },
     "metadata": {},
     "output_type": "display_data"
    },
    {
     "name": "stdout",
     "output_type": "stream",
     "text": [
      "Character Accuracy : 83.20757214720678 \tLicense Accuracy : 39.93910510987556 \tmIoU : 0.7380510693288272\n"
     ]
    }
   ],
   "source": [
    "print(\"Results for CCPD Tilt :\")\n",
    "evaluate(model, '../datasets/ccpd_tilt.csv')\n",
    "\n",
    "# e10 Character Accuracy : 82.43976701085518 \tLicense Accuracy : 37.834259994704794 \tmIoU : 0.7149307240498012\n",
    "# e30 Character Accuracy : 83.20757214720678 \tLicense Accuracy : 39.93910510987556 \tmIoU : 0.7380510693288272\n"
   ]
  },
  {
   "cell_type": "code",
   "execution_count": 13,
   "metadata": {},
   "outputs": [
    {
     "name": "stdout",
     "output_type": "stream",
     "text": [
      "Results for CCPD Weather :\n"
     ]
    },
    {
     "data": {
      "application/vnd.jupyter.widget-view+json": {
       "model_id": "70142ca5d190472c83fa7acf46289102",
       "version_major": 2,
       "version_minor": 0
      },
      "text/plain": [
       "  0%|          | 0/9999 [00:00<?, ?it/s]"
      ]
     },
     "metadata": {},
     "output_type": "display_data"
    },
    {
     "name": "stdout",
     "output_type": "stream",
     "text": [
      "Character Accuracy : 99.12419813409912 \tLicense Accuracy : 95.42954295429543 \tmIoU : 0.85375067658133\n"
     ]
    }
   ],
   "source": [
    "print(\"Results for CCPD Weather :\")\n",
    "evaluate(model, '../datasets/ccpd_weather.csv')\n",
    "\n",
    "# e10 Character Accuracy : 99.02847427599903 \tLicense Accuracy : 94.95949594959495 \tmIoU : 0.8289319364675726\n",
    "# e30 Character Accuracy : 99.12419813409912 \tLicense Accuracy : 95.42954295429543 \tmIoU : 0.85375067658133\n"
   ]
  },
  {
   "cell_type": "code",
   "execution_count": 14,
   "metadata": {},
   "outputs": [
    {
     "name": "stdout",
     "output_type": "stream",
     "text": [
      "Results for CCPD Base Test :\n"
     ]
    },
    {
     "data": {
      "application/vnd.jupyter.widget-view+json": {
       "model_id": "849fdab916ac4558a7695050795850c5",
       "version_major": 2,
       "version_minor": 0
      },
      "text/plain": [
       "  0%|          | 0/59999 [00:00<?, ?it/s]"
      ]
     },
     "metadata": {},
     "output_type": "display_data"
    },
    {
     "name": "stdout",
     "output_type": "stream",
     "text": [
      "Character Accuracy : 99.70261409118723 \tLicense Accuracy : 98.42330705511759 \tmIoU : 0.8672984540993978\n"
     ]
    }
   ],
   "source": [
    "print(\"Results for CCPD Base Test :\")\n",
    "evaluate(model, '../datasets/test.csv')\n",
    "\n",
    "# e10 Character Accuracy : 99.67761367451362 \tLicense Accuracy : 98.27830463841065 \tmIoU : 0.8586276494399093\n",
    "# e30 Character Accuracy : 99.70261409118723 \tLicense Accuracy : 98.42330705511759 \tmIoU : 0.8672984540993978\n"
   ]
  },
  {
   "cell_type": "code",
   "execution_count": 15,
   "metadata": {},
   "outputs": [
    {
     "name": "stdout",
     "output_type": "stream",
     "text": [
      "Results for CCPD FN :\n"
     ]
    },
    {
     "data": {
      "application/vnd.jupyter.widget-view+json": {
       "model_id": "07969b62f8ec47608bd72160f257645e",
       "version_major": 2,
       "version_minor": 0
      },
      "text/plain": [
       "  0%|          | 0/20967 [00:00<?, ?it/s]"
      ]
     },
     "metadata": {},
     "output_type": "display_data"
    },
    {
     "name": "stdout",
     "output_type": "stream",
     "text": [
      "Character Accuracy : 73.69403620655588 \tLicense Accuracy : 26.718176181618734 \tmIoU : 0.681974960554935\n"
     ]
    }
   ],
   "source": [
    "print(\"Results for CCPD FN :\")\n",
    "evaluate(model, '../datasets/ccpd_fn.csv')\n",
    "\n",
    "# e10 Character Accuracy : 72.77899283908728 \tLicense Accuracy : 25.425668908284447 \tmIoU : 0.6623283706805495\n",
    "# e30 Character Accuracy : 73.69403620655588 \tLicense Accuracy : 26.718176181618734 \tmIoU : 0.681974960554935\n"
   ]
  },
  {
   "cell_type": "code",
   "execution_count": null,
   "metadata": {},
   "outputs": [],
   "source": []
  }
 ],
 "metadata": {
  "kernelspec": {
   "display_name": "Python 3",
   "language": "python",
   "name": "python3"
  },
  "language_info": {
   "codemirror_mode": {
    "name": "ipython",
    "version": 3
   },
   "file_extension": ".py",
   "mimetype": "text/x-python",
   "name": "python",
   "nbconvert_exporter": "python",
   "pygments_lexer": "ipython3",
   "version": "3.8.10"
  }
 },
 "nbformat": 4,
 "nbformat_minor": 2
}
